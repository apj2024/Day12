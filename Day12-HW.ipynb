{
 "cells": [
  {
   "cell_type": "markdown",
   "id": "33738fde-205d-4e95-b885-807e97a8adf6",
   "metadata": {},
   "source": [
    "## Introduction to Data Science\n",
    "\n",
    "#### University of Redlands - DATA 101\n",
    "#### Prof: Joanna Bieri [joanna_bieri@redlands.edu](mailto:joanna_bieri@redlands.edu)\n",
    "#### [Class Website: data101.joannabieri.com](https://joannabieri.com/data101.html)\n",
    "\n",
    "---------------------------------------\n",
    "# Homework Day 12\n",
    "---------------------------------------\n",
    "\n",
    "GOALS:\n",
    "\n",
    "1. Talk about Ethics of Web Scraping\n",
    "2. Practice web scraping.\n",
    "\n",
    "----------------------------------------------------------\n",
    "\n",
    "This homework has **3 questions**, **1 exercise** and **1 optional challenge problem**."
   ]
  },
  {
   "cell_type": "markdown",
   "id": "2bf78cd1",
   "metadata": {},
   "source": [
    "## Important Information\n",
    "\n",
    "- Email: [joanna_bieri@redlands.edu](mailto:joanna_bieri@redlands.edu)\n",
    "- Office Hours: Duke 209 <a href=\"https://joannabieri.com/schedule.html\"> Click Here for Joanna's Schedule</a>\n",
    "\n",
    "## Announcements\n",
    "\n",
    "**In NEXT WEEK - Data Ethics** This week you should be reading your book or articles.\n",
    "\n",
    "## Day 12 Assignment - same drill.\n",
    "\n",
    "1. Make sure you can **Fork** and **Clone** the Day12 repo from [Redlands-DATA101](https://github.com/Redlands-DATA101)\n",
    "2. Open the file Day12-HW.ipynb and start doing the problems.\n",
    "    * You can do these problems as you follow along with the lecture notes and video.\n",
    "3. Get as far as you can before class.\n",
    "4. Submit what you have so far **Commit** and **Push** to Git.\n",
    "5. Take the daily check in quiz on **Canvas**.\n",
    "7. Come to class with lots of questions!\n",
    "\n",
    "------------------------------\n",
    "---------------------\n",
    "\n",
    "### Web Scraping Ethical Issues\n",
    "\n",
    "There are some things to be aware of before you start scraping data from the web. \n",
    "\n",
    "- Some data is private or protected. Just because you have access to a websites data doesn't mean you are allowed to scrape it. For example, when you log into Facebook or another social media site, you are granted special access to data about your connected people. It is unethical to use that access to scrape their private data!\n",
    "\n",
    "- Some websites have rules against scraping and will cut of service to users who are clearly scraping data. How do they know? Webscrapers access the website very differently that regular users. If they site has a policy about scraping data then you should follow it and/or content them about getting the data if you have a true academic interest in the data.\n",
    "\n",
    "- The line between web scraping and plagiarism can be very blurry. Make sure that you are citing where your data comes from AND not just reproducing the data exactly. Always citing the source of your data and make sure you are doing something new with it.\n",
    "\n",
    "- Ethics are different depending on if you are using the data for a personal project (eg. you just want to check scores for your favorite team daily and print the stuff you care about) vs if you are using the project for your business or website (eg. publishing information to drive clicks to your site/video/account or making money from the data you collect). In the later case it is EXTRA important to respect the original owner of the data. Drive web traffic back to their site, check with them about using their data, etc.\n",
    "\n",
    "**The Ethical Scraper** (from https://towardsdatascience.com/ethics-in-web-scraping-b96b18136f01):\n",
    "\n",
    "I, the web scraper will live by the following principles:\n",
    "\n",
    "- If you have a public API that provides the data I’m looking for, I’ll use it and avoid scraping all together.\n",
    "- I will always provide a User Agent string that makes my intentions clear and provides a way for you to contact me with questions or concerns.\n",
    "- I will request data at a reasonable rate. I will strive to never be confused for a DDoS attack.\n",
    "- I will only save the data I absolutely need from your page. If all I need it OpenGraph meta-data, that’s all I’ll keep.\n",
    "- I will respect any content I do keep. I’ll never pass it off as my own.\n",
    "- I will look for ways to return value to you. Maybe I can drive some (real) traffic to your site or credit you in an article or post.\n",
    "- I will respond in a timely fashion to your outreach and work with you towards a resolution.\n",
    "- I will scrape for the purpose of creating new value from the data, not to duplicate it."
   ]
  },
  {
   "cell_type": "code",
   "execution_count": 3,
   "id": "b608007e",
   "metadata": {},
   "outputs": [],
   "source": [
    "import numpy as np\n",
    "import pandas as pd\n",
    "\n",
    "import matplotlib.pyplot as plt\n",
    "import plotly.express as px\n",
    "from plotly.subplots import make_subplots\n",
    "import plotly.io as pio\n",
    "pio.renderers.defaule = 'colab'\n",
    "\n",
    "from itables import show\n",
    "\n",
    "# This stops a few warning messages from showing\n",
    "pd.options.mode.chained_assignment = None \n",
    "import warnings\n",
    "warnings.simplefilter(action='ignore', category=FutureWarning)"
   ]
  },
  {
   "cell_type": "code",
   "execution_count": null,
   "id": "cd38c98b-cc3d-4150-973e-b7bc883f0b74",
   "metadata": {},
   "outputs": [],
   "source": []
  },
  {
   "cell_type": "markdown",
   "id": "3eec300d",
   "metadata": {},
   "source": [
    "## Using pandas to get table data.\n",
    "\n",
    "**Optional** - try using pandas to scrape a new site. See if you get errors or are able to find tables on that site.\n"
   ]
  },
  {
   "cell_type": "markdown",
   "id": "9faebc13",
   "metadata": {},
   "source": [
    "---\n",
    "---\n",
    "\n",
    "## Using Beautiful Soup to get HTML code\n",
    "\n",
    "### How to get data from static sites:\n",
    "\n",
    "You should already have the packages bs4 and requests but if you get an error try running:\n",
    "\n",
    "```{python}\n",
    "!conda install -y bs4\n",
    "!conda install -y requests\n",
    "```"
   ]
  },
  {
   "cell_type": "code",
   "execution_count": 6,
   "id": "1688f055",
   "metadata": {},
   "outputs": [],
   "source": [
    "import requests\n",
    "from bs4 import BeautifulSoup"
   ]
  },
  {
   "cell_type": "code",
   "execution_count": 7,
   "id": "aad9d963",
   "metadata": {},
   "outputs": [],
   "source": [
    "website = 'https://www.scrapethissite.com/pages/simple/'"
   ]
  },
  {
   "cell_type": "code",
   "execution_count": 8,
   "id": "08ea4457",
   "metadata": {},
   "outputs": [],
   "source": [
    "raw_code = requests.get(website)\n",
    "html_doc = raw_code.text\n",
    "soup = BeautifulSoup(html_doc, 'html.parser')"
   ]
  },
  {
   "cell_type": "markdown",
   "id": "dd104b88",
   "metadata": {},
   "source": [
    "#### Lets see what is in soup\n",
    "\n",
    "**Q1** Uncomment this line and run the cell. You will see a TON of text!"
   ]
  },
  {
   "cell_type": "code",
   "execution_count": null,
   "id": "98582e0c",
   "metadata": {},
   "outputs": [],
   "source": []
  },
  {
   "cell_type": "markdown",
   "id": "8a248cb1",
   "metadata": {},
   "source": [
    "### Extracting data from HTML:\n",
    "\n",
    "We will use the **soup.find_all()** function.\n",
    "\n",
    "Here is the simplified function signature:\n",
    "\n",
    "    soup.find_all(name=None,attrs={})\n",
    "    \n",
    "You can type soup.find_all? and run it to see all the information about additional arguments and advanced processes.\n",
    "\n",
    "**Here is how we will mostly use it**, but there are much more advanced things you can do:\n",
    "\n",
    "    soup.find_all( <type of section>, <info> )\n",
    "    \n",
    "The **.find_all()** function searches through the information in soup to match and return only sections that match the info. Here are some important types you might search for:\n",
    "\n",
    "- 'h2' - this is a heading\n",
    "- 'div' - this divides a block of information\n",
    "- 'span' - this divides inline information\n",
    "- 'a' - this specifies a hyperlink\n",
    "- 'li' - this is a list item\n",
    "\n",
    "- class_= - many things have the class label (notice the underscore!)\n",
    "- string= - you can also search by strings.\n",
    "\n",
    "\n",
    "### Using Developer tools:\n",
    "\n",
    "To figure out what data to extract I suggest you use developer tools on the website to find what you need. \n",
    "\n",
    "**Q2** Navigate to the website and use developer tools to explore the html code.\n",
    "\n",
    "[Scrape This Site -  Website](https://www.scrapethissite.com/pages/simple/)\n",
    "\n",
    "I really like Brave Browser or Google Chrome for this, but most browsers with have **More Tools/Developer Tools** where you can see the code.\n",
    "\n",
    "### Search for all the country names\n",
    "\n",
    "The names of the country are inside \n",
    "        \n",
    "        <h3 class=\"country-name\">\n",
    "\n",
    "So lets search for this:"
   ]
  },
  {
   "cell_type": "code",
   "execution_count": 11,
   "id": "6129c2d5-5e75-4b22-8d94-87ea473528a2",
   "metadata": {},
   "outputs": [],
   "source": [
    "result = soup.find_all('span',class_=\"country-capital\")"
   ]
  },
  {
   "cell_type": "code",
   "execution_count": 12,
   "id": "bf0a0301-a7c3-4e79-a236-cce7547991aa",
   "metadata": {},
   "outputs": [
    {
     "data": {
      "text/plain": [
       "<span class=\"country-capital\">Andorra la Vella</span>"
      ]
     },
     "execution_count": 12,
     "metadata": {},
     "output_type": "execute_result"
    }
   ],
   "source": [
    "result[0]"
   ]
  },
  {
   "cell_type": "code",
   "execution_count": 13,
   "id": "95ad57dd-31e2-43e6-aa43-0b832af3aade",
   "metadata": {},
   "outputs": [
    {
     "data": {
      "text/plain": [
       "'Andorra la Vella'"
      ]
     },
     "execution_count": 13,
     "metadata": {},
     "output_type": "execute_result"
    }
   ],
   "source": [
    "result[0].text"
   ]
  },
  {
   "cell_type": "code",
   "execution_count": 14,
   "id": "aa7c4663-5aca-4899-95a6-9d83c310fe65",
   "metadata": {},
   "outputs": [
    {
     "data": {
      "text/html": [
       "<div>\n",
       "<style scoped>\n",
       "    .dataframe tbody tr th:only-of-type {\n",
       "        vertical-align: middle;\n",
       "    }\n",
       "\n",
       "    .dataframe tbody tr th {\n",
       "        vertical-align: top;\n",
       "    }\n",
       "\n",
       "    .dataframe thead th {\n",
       "        text-align: right;\n",
       "    }\n",
       "</style>\n",
       "<table border=\"1\" class=\"dataframe\">\n",
       "  <thead>\n",
       "    <tr style=\"text-align: right;\">\n",
       "      <th></th>\n",
       "      <th>capital</th>\n",
       "    </tr>\n",
       "  </thead>\n",
       "  <tbody>\n",
       "    <tr>\n",
       "      <th>0</th>\n",
       "      <td>Andorra la Vella</td>\n",
       "    </tr>\n",
       "    <tr>\n",
       "      <th>1</th>\n",
       "      <td>Abu Dhabi</td>\n",
       "    </tr>\n",
       "    <tr>\n",
       "      <th>2</th>\n",
       "      <td>Kabul</td>\n",
       "    </tr>\n",
       "    <tr>\n",
       "      <th>3</th>\n",
       "      <td>St. John's</td>\n",
       "    </tr>\n",
       "    <tr>\n",
       "      <th>4</th>\n",
       "      <td>The Valley</td>\n",
       "    </tr>\n",
       "    <tr>\n",
       "      <th>...</th>\n",
       "      <td>...</td>\n",
       "    </tr>\n",
       "    <tr>\n",
       "      <th>245</th>\n",
       "      <td>Sanaa</td>\n",
       "    </tr>\n",
       "    <tr>\n",
       "      <th>246</th>\n",
       "      <td>Mamoudzou</td>\n",
       "    </tr>\n",
       "    <tr>\n",
       "      <th>247</th>\n",
       "      <td>Pretoria</td>\n",
       "    </tr>\n",
       "    <tr>\n",
       "      <th>248</th>\n",
       "      <td>Lusaka</td>\n",
       "    </tr>\n",
       "    <tr>\n",
       "      <th>249</th>\n",
       "      <td>Harare</td>\n",
       "    </tr>\n",
       "  </tbody>\n",
       "</table>\n",
       "<p>250 rows × 1 columns</p>\n",
       "</div>"
      ],
      "text/plain": [
       "              capital\n",
       "0    Andorra la Vella\n",
       "1           Abu Dhabi\n",
       "2               Kabul\n",
       "3          St. John's\n",
       "4          The Valley\n",
       "..                ...\n",
       "245             Sanaa\n",
       "246         Mamoudzou\n",
       "247          Pretoria\n",
       "248            Lusaka\n",
       "249            Harare\n",
       "\n",
       "[250 rows x 1 columns]"
      ]
     },
     "execution_count": 14,
     "metadata": {},
     "output_type": "execute_result"
    }
   ],
   "source": [
    "# Create a data frame and add the site names\n",
    "DF = pd.DataFrame()\n",
    "DF['capital']=result\n",
    "DF['capital'] = DF['capital'].apply(lambda x: x.text)\n",
    "DF"
   ]
  },
  {
   "cell_type": "markdown",
   "id": "e89e9aa7-957a-4c03-9c2e-0909dcc9bb59",
   "metadata": {},
   "source": [
    "### Your turn to try this!\n",
    "\n",
    "**Q3** Now it's your turn. See if you can write code that gets the population and area information into the data frame. See if you can make your example match what I get below, including having the correct data types. Population should be an int and area should be a float.\n",
    "\n",
    "Your goal is to get a data frame that looks like the one in lecture with columns for country, capital, population, and area!"
   ]
  },
  {
   "cell_type": "markdown",
   "id": "176e1115-9454-41ae-92fb-c65426fb2fd4",
   "metadata": {},
   "source": [
    "### Where can you get more practice\n",
    "\n",
    "Here is a website dedicated to allowing students to practice webscraping:\n",
    "\n",
    "[www.scrapethissite.com](https://www.scrapethissite.com/pages/)\n",
    "\n",
    "    website=https://www.scrapethissite.com/pages/\n",
    "-----------------\n",
    "### Exercise 1:\n",
    "\n",
    "We are going to scrape the site above to get the list of all links. \n",
    "\n",
    "Open the website and look at the developer tools.\n",
    "\n",
    "Here is our goal: Make a pandas data frame that contains three columns: \n",
    "\n",
    "* \"site_name\" - which contains just the words of the link\n",
    "* \"link\" - which contains just the website part of the link\n",
    "* \"description\" - which contains the words below the link\n",
    "\n",
    "When looking for links you can use\n",
    "\n",
    "    result = soup.find_all('a')\n",
    "    result[0].text # Get the text associated with the link\n",
    "    result[0].get('href') # Get the link location\n",
    "\n",
    "\n",
    "\n",
    "See if you can do this without looking at my code in the notes! What would your plan have to be?\n",
    "\n",
    "**See the lecture notes for hints and the solution!**\n"
   ]
  },
  {
   "cell_type": "code",
   "execution_count": 22,
   "id": "aeff7dcb-75ee-4819-8494-bd1752cf10e6",
   "metadata": {},
   "outputs": [],
   "source": [
    "# get the soup \n",
    "website = 'https://www.scrapethissite.com/pages/'\n",
    "raw_code = requests.get(website)\n",
    "html_doc = raw_code.text\n",
    "soup = BeautifulSoup(html_doc, 'html.parser')"
   ]
  },
  {
   "cell_type": "code",
   "execution_count": 24,
   "id": "1104d796-200b-4f5e-9d4f-f73afc15a8dc",
   "metadata": {},
   "outputs": [],
   "source": [
    "# search soup for links\n",
    "result = soup.find_all('a')"
   ]
  },
  {
   "cell_type": "code",
   "execution_count": 26,
   "id": "b7d80afe-93e6-4fa4-a398-c9b2aa969a4a",
   "metadata": {},
   "outputs": [
    {
     "data": {
      "text/plain": [
       "'Scrape This Site'"
      ]
     },
     "execution_count": 26,
     "metadata": {},
     "output_type": "execute_result"
    }
   ],
   "source": [
    "# fix data \n",
    "result[0].text.lstrip().rstrip()"
   ]
  },
  {
   "cell_type": "code",
   "execution_count": 28,
   "id": "dd902ebf-6d6f-4044-a605-d1dc77d6c6e3",
   "metadata": {},
   "outputs": [
    {
     "data": {
      "text/plain": [
       "'Countries of the World: A Simple Example'"
      ]
     },
     "execution_count": 28,
     "metadata": {},
     "output_type": "execute_result"
    }
   ],
   "source": [
    "result[5].text.lstrip().rstrip()"
   ]
  },
  {
   "cell_type": "code",
   "execution_count": 32,
   "id": "cd89b59e-078e-4106-a90b-58971ad20956",
   "metadata": {},
   "outputs": [
    {
     "data": {
      "text/html": [
       "<div>\n",
       "<style scoped>\n",
       "    .dataframe tbody tr th:only-of-type {\n",
       "        vertical-align: middle;\n",
       "    }\n",
       "\n",
       "    .dataframe tbody tr th {\n",
       "        vertical-align: top;\n",
       "    }\n",
       "\n",
       "    .dataframe thead th {\n",
       "        text-align: right;\n",
       "    }\n",
       "</style>\n",
       "<table border=\"1\" class=\"dataframe\">\n",
       "  <thead>\n",
       "    <tr style=\"text-align: right;\">\n",
       "      <th></th>\n",
       "      <th>site_name</th>\n",
       "    </tr>\n",
       "  </thead>\n",
       "  <tbody>\n",
       "    <tr>\n",
       "      <th>0</th>\n",
       "      <td>Scrape This Site</td>\n",
       "    </tr>\n",
       "    <tr>\n",
       "      <th>1</th>\n",
       "      <td>Sandbox</td>\n",
       "    </tr>\n",
       "    <tr>\n",
       "      <th>2</th>\n",
       "      <td>Lessons</td>\n",
       "    </tr>\n",
       "    <tr>\n",
       "      <th>3</th>\n",
       "      <td>FAQ</td>\n",
       "    </tr>\n",
       "    <tr>\n",
       "      <th>4</th>\n",
       "      <td>Login</td>\n",
       "    </tr>\n",
       "    <tr>\n",
       "      <th>5</th>\n",
       "      <td>Countries of the World: A Simple Example</td>\n",
       "    </tr>\n",
       "    <tr>\n",
       "      <th>6</th>\n",
       "      <td>Hockey Teams: Forms, Searching and Pagination</td>\n",
       "    </tr>\n",
       "    <tr>\n",
       "      <th>7</th>\n",
       "      <td>Oscar Winning Films: AJAX and Javascript</td>\n",
       "    </tr>\n",
       "    <tr>\n",
       "      <th>8</th>\n",
       "      <td>Turtles All the Way Down: Frames &amp; iFrames</td>\n",
       "    </tr>\n",
       "    <tr>\n",
       "      <th>9</th>\n",
       "      <td>Advanced Topics: Real World Challenges You'll ...</td>\n",
       "    </tr>\n",
       "  </tbody>\n",
       "</table>\n",
       "</div>"
      ],
      "text/plain": [
       "                                           site_name\n",
       "0                                   Scrape This Site\n",
       "1                                            Sandbox\n",
       "2                                            Lessons\n",
       "3                                                FAQ\n",
       "4                                              Login\n",
       "5           Countries of the World: A Simple Example\n",
       "6      Hockey Teams: Forms, Searching and Pagination\n",
       "7           Oscar Winning Films: AJAX and Javascript\n",
       "8         Turtles All the Way Down: Frames & iFrames\n",
       "9  Advanced Topics: Real World Challenges You'll ..."
      ]
     },
     "execution_count": 32,
     "metadata": {},
     "output_type": "execute_result"
    }
   ],
   "source": [
    "DF = pd.DataFrame()\n",
    "DF['site_name'] = result\n",
    "DF['site_name'] = DF['site_name'].apply(lambda x:x.text.lstrip().rstrip())\n",
    "DF"
   ]
  },
  {
   "cell_type": "code",
   "execution_count": 34,
   "id": "09624e62-dc13-4d98-b705-0f6cf0cd9d36",
   "metadata": {},
   "outputs": [
    {
     "data": {
      "text/plain": [
       "'/'"
      ]
     },
     "execution_count": 34,
     "metadata": {},
     "output_type": "execute_result"
    }
   ],
   "source": [
    "result[0].get('href')"
   ]
  },
  {
   "cell_type": "code",
   "execution_count": 36,
   "id": "8aacadda-59f1-4995-8313-6f06dc802736",
   "metadata": {},
   "outputs": [
    {
     "data": {
      "text/plain": [
       "'/pages/simple/'"
      ]
     },
     "execution_count": 36,
     "metadata": {},
     "output_type": "execute_result"
    }
   ],
   "source": [
    "result[5].get('href')"
   ]
  },
  {
   "cell_type": "code",
   "execution_count": 38,
   "id": "f69996fb-bf3f-4e2a-aede-3bf3d5d56c22",
   "metadata": {},
   "outputs": [
    {
     "data": {
      "text/html": [
       "<div>\n",
       "<style scoped>\n",
       "    .dataframe tbody tr th:only-of-type {\n",
       "        vertical-align: middle;\n",
       "    }\n",
       "\n",
       "    .dataframe tbody tr th {\n",
       "        vertical-align: top;\n",
       "    }\n",
       "\n",
       "    .dataframe thead th {\n",
       "        text-align: right;\n",
       "    }\n",
       "</style>\n",
       "<table border=\"1\" class=\"dataframe\">\n",
       "  <thead>\n",
       "    <tr style=\"text-align: right;\">\n",
       "      <th></th>\n",
       "      <th>site_name</th>\n",
       "      <th>link</th>\n",
       "    </tr>\n",
       "  </thead>\n",
       "  <tbody>\n",
       "    <tr>\n",
       "      <th>0</th>\n",
       "      <td>Scrape This Site</td>\n",
       "      <td>/</td>\n",
       "    </tr>\n",
       "    <tr>\n",
       "      <th>1</th>\n",
       "      <td>Sandbox</td>\n",
       "      <td>/pages/</td>\n",
       "    </tr>\n",
       "    <tr>\n",
       "      <th>2</th>\n",
       "      <td>Lessons</td>\n",
       "      <td>/lessons/</td>\n",
       "    </tr>\n",
       "    <tr>\n",
       "      <th>3</th>\n",
       "      <td>FAQ</td>\n",
       "      <td>/faq/</td>\n",
       "    </tr>\n",
       "    <tr>\n",
       "      <th>4</th>\n",
       "      <td>Login</td>\n",
       "      <td>/login/</td>\n",
       "    </tr>\n",
       "    <tr>\n",
       "      <th>5</th>\n",
       "      <td>Countries of the World: A Simple Example</td>\n",
       "      <td>/pages/simple/</td>\n",
       "    </tr>\n",
       "    <tr>\n",
       "      <th>6</th>\n",
       "      <td>Hockey Teams: Forms, Searching and Pagination</td>\n",
       "      <td>/pages/forms/</td>\n",
       "    </tr>\n",
       "    <tr>\n",
       "      <th>7</th>\n",
       "      <td>Oscar Winning Films: AJAX and Javascript</td>\n",
       "      <td>/pages/ajax-javascript/</td>\n",
       "    </tr>\n",
       "    <tr>\n",
       "      <th>8</th>\n",
       "      <td>Turtles All the Way Down: Frames &amp; iFrames</td>\n",
       "      <td>/pages/frames/</td>\n",
       "    </tr>\n",
       "    <tr>\n",
       "      <th>9</th>\n",
       "      <td>Advanced Topics: Real World Challenges You'll ...</td>\n",
       "      <td>/pages/advanced/</td>\n",
       "    </tr>\n",
       "  </tbody>\n",
       "</table>\n",
       "</div>"
      ],
      "text/plain": [
       "                                           site_name                     link\n",
       "0                                   Scrape This Site                        /\n",
       "1                                            Sandbox                  /pages/\n",
       "2                                            Lessons                /lessons/\n",
       "3                                                FAQ                    /faq/\n",
       "4                                              Login                  /login/\n",
       "5           Countries of the World: A Simple Example           /pages/simple/\n",
       "6      Hockey Teams: Forms, Searching and Pagination            /pages/forms/\n",
       "7           Oscar Winning Films: AJAX and Javascript  /pages/ajax-javascript/\n",
       "8         Turtles All the Way Down: Frames & iFrames           /pages/frames/\n",
       "9  Advanced Topics: Real World Challenges You'll ...         /pages/advanced/"
      ]
     },
     "execution_count": 38,
     "metadata": {},
     "output_type": "execute_result"
    }
   ],
   "source": [
    "DF['link']=result\n",
    "DF['link'] = DF['link'].apply(lambda x : x.get('href'))\n",
    "DF"
   ]
  },
  {
   "cell_type": "code",
   "execution_count": 40,
   "id": "3053b8ca-8ec6-4566-83b3-3028920b4e79",
   "metadata": {},
   "outputs": [
    {
     "data": {
      "text/html": [
       "<div>\n",
       "<style scoped>\n",
       "    .dataframe tbody tr th:only-of-type {\n",
       "        vertical-align: middle;\n",
       "    }\n",
       "\n",
       "    .dataframe tbody tr th {\n",
       "        vertical-align: top;\n",
       "    }\n",
       "\n",
       "    .dataframe thead th {\n",
       "        text-align: right;\n",
       "    }\n",
       "</style>\n",
       "<table border=\"1\" class=\"dataframe\">\n",
       "  <thead>\n",
       "    <tr style=\"text-align: right;\">\n",
       "      <th></th>\n",
       "      <th>site_name</th>\n",
       "      <th>link</th>\n",
       "    </tr>\n",
       "  </thead>\n",
       "  <tbody>\n",
       "    <tr>\n",
       "      <th>0</th>\n",
       "      <td>Scrape This Site</td>\n",
       "      <td>https://www.scrapethissite.com/</td>\n",
       "    </tr>\n",
       "    <tr>\n",
       "      <th>1</th>\n",
       "      <td>Sandbox</td>\n",
       "      <td>https://www.scrapethissite.com/pages/</td>\n",
       "    </tr>\n",
       "    <tr>\n",
       "      <th>2</th>\n",
       "      <td>Lessons</td>\n",
       "      <td>https://www.scrapethissite.com/lessons/</td>\n",
       "    </tr>\n",
       "    <tr>\n",
       "      <th>3</th>\n",
       "      <td>FAQ</td>\n",
       "      <td>https://www.scrapethissite.com/faq/</td>\n",
       "    </tr>\n",
       "    <tr>\n",
       "      <th>4</th>\n",
       "      <td>Login</td>\n",
       "      <td>https://www.scrapethissite.com/login/</td>\n",
       "    </tr>\n",
       "    <tr>\n",
       "      <th>5</th>\n",
       "      <td>Countries of the World: A Simple Example</td>\n",
       "      <td>https://www.scrapethissite.com/pages/simple/</td>\n",
       "    </tr>\n",
       "    <tr>\n",
       "      <th>6</th>\n",
       "      <td>Hockey Teams: Forms, Searching and Pagination</td>\n",
       "      <td>https://www.scrapethissite.com/pages/forms/</td>\n",
       "    </tr>\n",
       "    <tr>\n",
       "      <th>7</th>\n",
       "      <td>Oscar Winning Films: AJAX and Javascript</td>\n",
       "      <td>https://www.scrapethissite.com/pages/ajax-java...</td>\n",
       "    </tr>\n",
       "    <tr>\n",
       "      <th>8</th>\n",
       "      <td>Turtles All the Way Down: Frames &amp; iFrames</td>\n",
       "      <td>https://www.scrapethissite.com/pages/frames/</td>\n",
       "    </tr>\n",
       "    <tr>\n",
       "      <th>9</th>\n",
       "      <td>Advanced Topics: Real World Challenges You'll ...</td>\n",
       "      <td>https://www.scrapethissite.com/pages/advanced/</td>\n",
       "    </tr>\n",
       "  </tbody>\n",
       "</table>\n",
       "</div>"
      ],
      "text/plain": [
       "                                           site_name  \\\n",
       "0                                   Scrape This Site   \n",
       "1                                            Sandbox   \n",
       "2                                            Lessons   \n",
       "3                                                FAQ   \n",
       "4                                              Login   \n",
       "5           Countries of the World: A Simple Example   \n",
       "6      Hockey Teams: Forms, Searching and Pagination   \n",
       "7           Oscar Winning Films: AJAX and Javascript   \n",
       "8         Turtles All the Way Down: Frames & iFrames   \n",
       "9  Advanced Topics: Real World Challenges You'll ...   \n",
       "\n",
       "                                                link  \n",
       "0                    https://www.scrapethissite.com/  \n",
       "1              https://www.scrapethissite.com/pages/  \n",
       "2            https://www.scrapethissite.com/lessons/  \n",
       "3                https://www.scrapethissite.com/faq/  \n",
       "4              https://www.scrapethissite.com/login/  \n",
       "5       https://www.scrapethissite.com/pages/simple/  \n",
       "6        https://www.scrapethissite.com/pages/forms/  \n",
       "7  https://www.scrapethissite.com/pages/ajax-java...  \n",
       "8       https://www.scrapethissite.com/pages/frames/  \n",
       "9     https://www.scrapethissite.com/pages/advanced/  "
      ]
     },
     "execution_count": 40,
     "metadata": {},
     "output_type": "execute_result"
    }
   ],
   "source": [
    "base_website = 'https://www.scrapethissite.com'\n",
    "DF['link'] = DF['link'].apply(lambda x : base_website+x)\n"
   ]
  },
  {
   "cell_type": "code",
   "execution_count": 42,
   "id": "64a51276-e145-4db4-99d3-8e9443dcb177",
   "metadata": {},
   "outputs": [
    {
     "data": {
      "text/html": [
       "<div>\n",
       "<style scoped>\n",
       "    .dataframe tbody tr th:only-of-type {\n",
       "        vertical-align: middle;\n",
       "    }\n",
       "\n",
       "    .dataframe tbody tr th {\n",
       "        vertical-align: top;\n",
       "    }\n",
       "\n",
       "    .dataframe thead th {\n",
       "        text-align: right;\n",
       "    }\n",
       "</style>\n",
       "<table border=\"1\" class=\"dataframe\">\n",
       "  <thead>\n",
       "    <tr style=\"text-align: right;\">\n",
       "      <th></th>\n",
       "      <th>site_name</th>\n",
       "      <th>link</th>\n",
       "    </tr>\n",
       "  </thead>\n",
       "  <tbody>\n",
       "    <tr>\n",
       "      <th>5</th>\n",
       "      <td>Countries of the World: A Simple Example</td>\n",
       "      <td>https://www.scrapethissite.com/pages/simple/</td>\n",
       "    </tr>\n",
       "    <tr>\n",
       "      <th>6</th>\n",
       "      <td>Hockey Teams: Forms, Searching and Pagination</td>\n",
       "      <td>https://www.scrapethissite.com/pages/forms/</td>\n",
       "    </tr>\n",
       "    <tr>\n",
       "      <th>7</th>\n",
       "      <td>Oscar Winning Films: AJAX and Javascript</td>\n",
       "      <td>https://www.scrapethissite.com/pages/ajax-java...</td>\n",
       "    </tr>\n",
       "    <tr>\n",
       "      <th>8</th>\n",
       "      <td>Turtles All the Way Down: Frames &amp; iFrames</td>\n",
       "      <td>https://www.scrapethissite.com/pages/frames/</td>\n",
       "    </tr>\n",
       "    <tr>\n",
       "      <th>9</th>\n",
       "      <td>Advanced Topics: Real World Challenges You'll ...</td>\n",
       "      <td>https://www.scrapethissite.com/pages/advanced/</td>\n",
       "    </tr>\n",
       "  </tbody>\n",
       "</table>\n",
       "</div>"
      ],
      "text/plain": [
       "                                           site_name  \\\n",
       "5           Countries of the World: A Simple Example   \n",
       "6      Hockey Teams: Forms, Searching and Pagination   \n",
       "7           Oscar Winning Films: AJAX and Javascript   \n",
       "8         Turtles All the Way Down: Frames & iFrames   \n",
       "9  Advanced Topics: Real World Challenges You'll ...   \n",
       "\n",
       "                                                link  \n",
       "5       https://www.scrapethissite.com/pages/simple/  \n",
       "6        https://www.scrapethissite.com/pages/forms/  \n",
       "7  https://www.scrapethissite.com/pages/ajax-java...  \n",
       "8       https://www.scrapethissite.com/pages/frames/  \n",
       "9     https://www.scrapethissite.com/pages/advanced/  "
      ]
     },
     "execution_count": 42,
     "metadata": {},
     "output_type": "execute_result"
    }
   ],
   "source": [
    "DF = DF.drop([0,1,2,3,4])\n",
    "DF"
   ]
  },
  {
   "cell_type": "code",
   "execution_count": 48,
   "id": "66f925da-b824-4db3-9ba5-22939e94ee47",
   "metadata": {},
   "outputs": [],
   "source": [
    "result = soup.find_all('p',class_=\"lead session-desc\")"
   ]
  },
  {
   "cell_type": "code",
   "execution_count": 52,
   "id": "5a469ebe-e387-4a20-91b5-5a782e299f1b",
   "metadata": {},
   "outputs": [
    {
     "data": {
      "text/plain": [
       "'A single page that lists information about all the countries in the world. Good for those just get started with web scraping.'"
      ]
     },
     "execution_count": 52,
     "metadata": {},
     "output_type": "execute_result"
    }
   ],
   "source": [
    "result[0].text.rstrip().lstrip()"
   ]
  },
  {
   "cell_type": "code",
   "execution_count": 54,
   "id": "f53af84c-3846-4943-8666-5ff70eb8626e",
   "metadata": {},
   "outputs": [
    {
     "data": {
      "text/html": [
       "<div>\n",
       "<style scoped>\n",
       "    .dataframe tbody tr th:only-of-type {\n",
       "        vertical-align: middle;\n",
       "    }\n",
       "\n",
       "    .dataframe tbody tr th {\n",
       "        vertical-align: top;\n",
       "    }\n",
       "\n",
       "    .dataframe thead th {\n",
       "        text-align: right;\n",
       "    }\n",
       "</style>\n",
       "<table border=\"1\" class=\"dataframe\">\n",
       "  <thead>\n",
       "    <tr style=\"text-align: right;\">\n",
       "      <th></th>\n",
       "      <th>site_name</th>\n",
       "      <th>link</th>\n",
       "      <th>description</th>\n",
       "    </tr>\n",
       "  </thead>\n",
       "  <tbody>\n",
       "    <tr>\n",
       "      <th>5</th>\n",
       "      <td>Countries of the World: A Simple Example</td>\n",
       "      <td>https://www.scrapethissite.com/pages/simple/</td>\n",
       "      <td>A single page that lists information about all...</td>\n",
       "    </tr>\n",
       "    <tr>\n",
       "      <th>6</th>\n",
       "      <td>Hockey Teams: Forms, Searching and Pagination</td>\n",
       "      <td>https://www.scrapethissite.com/pages/forms/</td>\n",
       "      <td>Browse through a database of NHL team stats si...</td>\n",
       "    </tr>\n",
       "    <tr>\n",
       "      <th>7</th>\n",
       "      <td>Oscar Winning Films: AJAX and Javascript</td>\n",
       "      <td>https://www.scrapethissite.com/pages/ajax-java...</td>\n",
       "      <td>Click through a bunch of great films. Learn ho...</td>\n",
       "    </tr>\n",
       "    <tr>\n",
       "      <th>8</th>\n",
       "      <td>Turtles All the Way Down: Frames &amp; iFrames</td>\n",
       "      <td>https://www.scrapethissite.com/pages/frames/</td>\n",
       "      <td>Some older sites might still use frames to bre...</td>\n",
       "    </tr>\n",
       "    <tr>\n",
       "      <th>9</th>\n",
       "      <td>Advanced Topics: Real World Challenges You'll ...</td>\n",
       "      <td>https://www.scrapethissite.com/pages/advanced/</td>\n",
       "      <td>Scraping real websites, you're likely run into...</td>\n",
       "    </tr>\n",
       "  </tbody>\n",
       "</table>\n",
       "</div>"
      ],
      "text/plain": [
       "                                           site_name  \\\n",
       "5           Countries of the World: A Simple Example   \n",
       "6      Hockey Teams: Forms, Searching and Pagination   \n",
       "7           Oscar Winning Films: AJAX and Javascript   \n",
       "8         Turtles All the Way Down: Frames & iFrames   \n",
       "9  Advanced Topics: Real World Challenges You'll ...   \n",
       "\n",
       "                                                link  \\\n",
       "5       https://www.scrapethissite.com/pages/simple/   \n",
       "6        https://www.scrapethissite.com/pages/forms/   \n",
       "7  https://www.scrapethissite.com/pages/ajax-java...   \n",
       "8       https://www.scrapethissite.com/pages/frames/   \n",
       "9     https://www.scrapethissite.com/pages/advanced/   \n",
       "\n",
       "                                         description  \n",
       "5  A single page that lists information about all...  \n",
       "6  Browse through a database of NHL team stats si...  \n",
       "7  Click through a bunch of great films. Learn ho...  \n",
       "8  Some older sites might still use frames to bre...  \n",
       "9  Scraping real websites, you're likely run into...  "
      ]
     },
     "execution_count": 54,
     "metadata": {},
     "output_type": "execute_result"
    }
   ],
   "source": [
    "DF['description'] = result\n",
    "DF['description'] = DF['description'].apply(lambda x : x.text.rstrip().lstrip())\n",
    "DF"
   ]
  },
  {
   "cell_type": "markdown",
   "id": "ccdc8ae8-0880-4abb-a9ef-7d497210ee34",
   "metadata": {},
   "source": [
    "### Challenge Problem\n",
    "\n",
    "Here is another website to scrape. See if you can create a data frame that looks like the one in the lecture notes. Notice that you can only scrape the first page with the first link. \n",
    "\n",
    "If you want to try scraping the other pages you have to notice how the website updates its address for each page. Then write a for loop to loop through how ever many pages you want to scrape. Do the same set of operations for each page keep adding data to your data frame.\n",
    "\n",
    "Make a histogram of your final data."
   ]
  },
  {
   "cell_type": "code",
   "execution_count": null,
   "id": "267722fb-a33b-4969-82eb-26c94edd0bb6",
   "metadata": {},
   "outputs": [],
   "source": [
    "website='https://books.toscrape.com/index.html'\n",
    "raw_code = requests.get(website)\n",
    "html_doc = raw_code.text\n",
    "soup = BeautifulSoup(html_doc, 'html.parser')"
   ]
  },
  {
   "cell_type": "markdown",
   "id": "09b86c1d-5c13-4178-9685-c09922f4ec2d",
   "metadata": {},
   "source": [
    "**Try to scrape the name, the link to the book, and the prices! I decided to put the name and link information into a single column and then break that apart**"
   ]
  },
  {
   "cell_type": "code",
   "execution_count": 56,
   "id": "429be6b6-4fdc-41e4-a481-c778ac9bc9ca",
   "metadata": {},
   "outputs": [],
   "source": [
    "result = soup.find_all('li',class_=)"
   ]
  },
  {
   "cell_type": "code",
   "execution_count": 58,
   "id": "08613fec-b6db-44cd-b093-69e43704cef0",
   "metadata": {},
   "outputs": [
    {
     "data": {
      "text/plain": [
       "'Scrape This Site'"
      ]
     },
     "execution_count": 58,
     "metadata": {},
     "output_type": "execute_result"
    }
   ],
   "source": [
    "result[0].text.lstrip().rstrip()"
   ]
  },
  {
   "cell_type": "code",
   "execution_count": null,
   "id": "f4867a1d-2852-45fd-be18-31b96658934a",
   "metadata": {},
   "outputs": [],
   "source": []
  }
 ],
 "metadata": {
  "kernelspec": {
   "display_name": "Python 3 (ipykernel)",
   "language": "python",
   "name": "python3"
  },
  "language_info": {
   "codemirror_mode": {
    "name": "ipython",
    "version": 3
   },
   "file_extension": ".py",
   "mimetype": "text/x-python",
   "name": "python",
   "nbconvert_exporter": "python",
   "pygments_lexer": "ipython3",
   "version": "3.12.3"
  }
 },
 "nbformat": 4,
 "nbformat_minor": 5
}
